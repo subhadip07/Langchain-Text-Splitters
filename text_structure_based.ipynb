{
 "cells": [
  {
   "cell_type": "markdown",
   "id": "101c90e4",
   "metadata": {},
   "source": [
    "### 2. Text Structure Based Text Splitters"
   ]
  },
  {
   "cell_type": "code",
   "execution_count": 2,
   "id": "cd81f1b9",
   "metadata": {},
   "outputs": [],
   "source": [
    "from langchain.text_splitter import RecursiveCharacterTextSplitter"
   ]
  },
  {
   "cell_type": "code",
   "execution_count": 3,
   "id": "cea32912",
   "metadata": {},
   "outputs": [],
   "source": [
    "text = \"\"\"\n",
    "Space exploration has led to incredible scientific discoveries. From landing on the Moon to exploring Mars, humanity continues to push the boundaries of what’s possible beyond our planet.\n",
    "\n",
    "These missions have not only expanded our knowledge of the universe but have also contributed to advancements in technology here on Earth. Satellite communications, GPS, and even certain medical imaging techniques trace their roots back to innovations driven by space programs.\n",
    "\"\"\""
   ]
  },
  {
   "cell_type": "markdown",
   "id": "ac44a0a1",
   "metadata": {},
   "source": [
    "* The RecursiveCharacterTextSplitter is designed to split text into smaller segments or \"chunks\" while respecting character boundaries and hierarchical structures within the text"
   ]
  },
  {
   "cell_type": "code",
   "execution_count": 8,
   "id": "2e870e00",
   "metadata": {},
   "outputs": [],
   "source": [
    "# Initialize the splitter\n",
    "splitter = RecursiveCharacterTextSplitter(\n",
    "    chunk_size=50,\n",
    "    chunk_overlap=0,\n",
    ")"
   ]
  },
  {
   "cell_type": "code",
   "execution_count": 9,
   "id": "3a44d541",
   "metadata": {},
   "outputs": [],
   "source": [
    "# Perform the split\n",
    "chunks = splitter.split_text(text)"
   ]
  },
  {
   "cell_type": "code",
   "execution_count": 10,
   "id": "07af1652",
   "metadata": {},
   "outputs": [
    {
     "name": "stdout",
     "output_type": "stream",
     "text": [
      "11\n"
     ]
    }
   ],
   "source": [
    "print(len(chunks))"
   ]
  },
  {
   "cell_type": "code",
   "execution_count": 11,
   "id": "7f53e41e",
   "metadata": {},
   "outputs": [
    {
     "name": "stdout",
     "output_type": "stream",
     "text": [
      "['Space exploration has led to incredible', 'scientific discoveries. From landing on the Moon', 'to exploring Mars, humanity continues to push the', 'boundaries of what’s possible beyond our planet.', 'These missions have not only expanded our', 'knowledge of the universe but have also', 'contributed to advancements in technology here on', 'Earth. Satellite communications, GPS, and even', 'certain medical imaging techniques trace their', 'roots back to innovations driven by space', 'programs.']\n"
     ]
    }
   ],
   "source": [
    "print(chunks)"
   ]
  }
 ],
 "metadata": {
  "kernelspec": {
   "display_name": ".demo",
   "language": "python",
   "name": "python3"
  },
  "language_info": {
   "codemirror_mode": {
    "name": "ipython",
    "version": 3
   },
   "file_extension": ".py",
   "mimetype": "text/x-python",
   "name": "python",
   "nbconvert_exporter": "python",
   "pygments_lexer": "ipython3",
   "version": "3.13.1"
  }
 },
 "nbformat": 4,
 "nbformat_minor": 5
}
