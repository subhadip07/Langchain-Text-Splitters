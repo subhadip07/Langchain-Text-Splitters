{
 "cells": [
  {
   "cell_type": "markdown",
   "id": "2fba7ffc",
   "metadata": {},
   "source": [
    "### Text Splitting \n",
    "* It is the process of breaking large chunks of text (like articles, PDFs, HTML pages, or books) into smaller, manageable pieces (chunks) that an LLM can handle effectively."
   ]
  },
  {
   "cell_type": "markdown",
   "id": "1c3cbff4",
   "metadata": {},
   "source": [
    "### 1. Length Based Text Splitters"
   ]
  },
  {
   "cell_type": "code",
   "execution_count": 1,
   "id": "9f85954e",
   "metadata": {},
   "outputs": [],
   "source": [
    "from langchain.text_splitter import CharacterTextSplitter\n",
    "from langchain_community.document_loaders import TextLoader"
   ]
  },
  {
   "cell_type": "code",
   "execution_count": 2,
   "id": "7c6de3fb",
   "metadata": {},
   "outputs": [],
   "source": [
    "loader = TextLoader('text.txt')"
   ]
  },
  {
   "cell_type": "code",
   "execution_count": 3,
   "id": "d87b7dd7",
   "metadata": {},
   "outputs": [],
   "source": [
    "docs = loader.load()"
   ]
  },
  {
   "cell_type": "markdown",
   "id": "318a1b1f",
   "metadata": {},
   "source": [
    "* This is a simpler splitter that divides text based on a single, specified character separator, which defaults to \"\\n\\n\" (double newline). It measures chunk length by the number of characters. While straightforward, it can sometimes lead to semantically incoherent chunks if the chosen separator doesn't align with the natural structure of the text."
   ]
  },
  {
   "cell_type": "code",
   "execution_count": 4,
   "id": "4143f4eb",
   "metadata": {},
   "outputs": [],
   "source": [
    "splitter = CharacterTextSplitter(\n",
    "    chunk_size=100,\n",
    "    chunk_overlap=0,\n",
    "    separator=''\n",
    ")"
   ]
  },
  {
   "cell_type": "code",
   "execution_count": 5,
   "id": "0209e91c",
   "metadata": {},
   "outputs": [],
   "source": [
    "result = splitter.split_documents(docs)"
   ]
  },
  {
   "cell_type": "code",
   "execution_count": 7,
   "id": "5d40a743",
   "metadata": {},
   "outputs": [
    {
     "name": "stdout",
     "output_type": "stream",
     "text": [
      "When I think about the amount of food waste in our community, it really frustrates me. It feels like\n"
     ]
    }
   ],
   "source": [
    "print(result[0].page_content)"
   ]
  },
  {
   "cell_type": "code",
   "execution_count": null,
   "id": "58840944",
   "metadata": {},
   "outputs": [],
   "source": []
  }
 ],
 "metadata": {
  "kernelspec": {
   "display_name": ".demo",
   "language": "python",
   "name": "python3"
  },
  "language_info": {
   "codemirror_mode": {
    "name": "ipython",
    "version": 3
   },
   "file_extension": ".py",
   "mimetype": "text/x-python",
   "name": "python",
   "nbconvert_exporter": "python",
   "pygments_lexer": "ipython3",
   "version": "3.13.1"
  }
 },
 "nbformat": 4,
 "nbformat_minor": 5
}
